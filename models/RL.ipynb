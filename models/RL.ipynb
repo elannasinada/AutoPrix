{
  "cells": [
    {
      "cell_type": "markdown",
      "metadata": {
        "id": "N6ONqIbYLOv4"
      },
      "source": [
        "**Charger les librairies nécéssaires**"
      ]
    },
    {
      "cell_type": "code",
      "execution_count": 19,
      "metadata": {},
      "outputs": [],
      "source": [
        "import pandas as pd\n",
        "\n",
        "from sklearn.linear_model import LinearRegression\n",
        "from sklearn.model_selection import train_test_split\n",
        "from sklearn.metrics import mean_absolute_error, mean_squared_error, r2_score"
      ]
    },
    {
      "cell_type": "markdown",
      "metadata": {},
      "source": [
        "**Chargement des données**"
      ]
    },
    {
      "cell_type": "code",
      "execution_count": 20,
      "metadata": {
        "colab": {
          "base_uri": "https://localhost:8080/",
          "height": 373
        },
        "id": "zVjOmtHTLILG",
        "outputId": "6885e734-a340-4a48-d62c-d60a3a8f0199"
      },
      "outputs": [
        {
          "data": {
            "text/html": [
              "<div>\n",
              "<style scoped>\n",
              "    .dataframe tbody tr th:only-of-type {\n",
              "        vertical-align: middle;\n",
              "    }\n",
              "\n",
              "    .dataframe tbody tr th {\n",
              "        vertical-align: top;\n",
              "    }\n",
              "\n",
              "    .dataframe thead th {\n",
              "        text-align: right;\n",
              "    }\n",
              "</style>\n",
              "<table border=\"1\" class=\"dataframe\">\n",
              "  <thead>\n",
              "    <tr style=\"text-align: right;\">\n",
              "      <th></th>\n",
              "      <th>annee</th>\n",
              "      <th>boite</th>\n",
              "      <th>carburant</th>\n",
              "      <th>kilometrage</th>\n",
              "      <th>marque</th>\n",
              "      <th>modele</th>\n",
              "      <th>nombre_portres</th>\n",
              "      <th>premiere_main</th>\n",
              "      <th>puissance_fiscale</th>\n",
              "      <th>etat</th>\n",
              "      <th>prix</th>\n",
              "    </tr>\n",
              "  </thead>\n",
              "  <tbody>\n",
              "    <tr>\n",
              "      <th>0</th>\n",
              "      <td>2023</td>\n",
              "      <td>Automatique</td>\n",
              "      <td>Essence</td>\n",
              "      <td>22499.5</td>\n",
              "      <td>Alfa Romeo</td>\n",
              "      <td>Tonale</td>\n",
              "      <td>5</td>\n",
              "      <td>Oui</td>\n",
              "      <td>8</td>\n",
              "      <td>Excellent</td>\n",
              "      <td>306000</td>\n",
              "    </tr>\n",
              "    <tr>\n",
              "      <th>1</th>\n",
              "      <td>2018</td>\n",
              "      <td>Manuelle</td>\n",
              "      <td>Diesel</td>\n",
              "      <td>104999.5</td>\n",
              "      <td>Dacia</td>\n",
              "      <td>Duster</td>\n",
              "      <td>5</td>\n",
              "      <td>Oui</td>\n",
              "      <td>6</td>\n",
              "      <td>Excellent</td>\n",
              "      <td>155000</td>\n",
              "    </tr>\n",
              "    <tr>\n",
              "      <th>2</th>\n",
              "      <td>2023</td>\n",
              "      <td>Automatique</td>\n",
              "      <td>Diesel</td>\n",
              "      <td>67499.5</td>\n",
              "      <td>Hyundai</td>\n",
              "      <td>Accent</td>\n",
              "      <td>5</td>\n",
              "      <td>Oui</td>\n",
              "      <td>6</td>\n",
              "      <td>Excellent</td>\n",
              "      <td>179000</td>\n",
              "    </tr>\n",
              "    <tr>\n",
              "      <th>3</th>\n",
              "      <td>2023</td>\n",
              "      <td>Automatique</td>\n",
              "      <td>Diesel</td>\n",
              "      <td>22499.5</td>\n",
              "      <td>Peugeot</td>\n",
              "      <td>5008</td>\n",
              "      <td>5</td>\n",
              "      <td>Oui</td>\n",
              "      <td>8</td>\n",
              "      <td>Excellent</td>\n",
              "      <td>349000</td>\n",
              "    </tr>\n",
              "    <tr>\n",
              "      <th>4</th>\n",
              "      <td>2021</td>\n",
              "      <td>Automatique</td>\n",
              "      <td>Diesel</td>\n",
              "      <td>77499.5</td>\n",
              "      <td>Kia</td>\n",
              "      <td>Sportage</td>\n",
              "      <td>5</td>\n",
              "      <td>Oui</td>\n",
              "      <td>12</td>\n",
              "      <td>Très bon</td>\n",
              "      <td>685000</td>\n",
              "    </tr>\n",
              "  </tbody>\n",
              "</table>\n",
              "</div>"
            ],
            "text/plain": [
              "   annee        boite carburant  kilometrage      marque    modele  \\\n",
              "0   2023  Automatique   Essence      22499.5  Alfa Romeo    Tonale   \n",
              "1   2018     Manuelle    Diesel     104999.5       Dacia    Duster   \n",
              "2   2023  Automatique    Diesel      67499.5     Hyundai    Accent   \n",
              "3   2023  Automatique    Diesel      22499.5     Peugeot      5008   \n",
              "4   2021  Automatique    Diesel      77499.5         Kia  Sportage   \n",
              "\n",
              "   nombre_portres premiere_main  puissance_fiscale       etat    prix  \n",
              "0               5           Oui                  8  Excellent  306000  \n",
              "1               5           Oui                  6  Excellent  155000  \n",
              "2               5           Oui                  6  Excellent  179000  \n",
              "3               5           Oui                  8  Excellent  349000  \n",
              "4               5           Oui                 12   Très bon  685000  "
            ]
          },
          "execution_count": 20,
          "metadata": {},
          "output_type": "execute_result"
        }
      ],
      "source": [
        "# Lecture du fichier nettoyé\n",
        "df = pd.read_csv(\"data/avito_cars_clean.csv\")\n",
        "\n",
        "# Afficher les cinq premières lignes des données\n",
        "df.head()"
      ]
    },
    {
      "cell_type": "markdown",
      "metadata": {
        "id": "XBY1p_ODNgUw"
      },
      "source": [
        "**les colonnes disponibles**"
      ]
    },
    {
      "cell_type": "code",
      "execution_count": 21,
      "metadata": {
        "colab": {
          "base_uri": "https://localhost:8080/"
        },
        "id": "5INfoDwMNdB4",
        "outputId": "d6169129-5632-4023-ac14-3dd257991059"
      },
      "outputs": [
        {
          "data": {
            "text/plain": [
              "Index(['annee', 'boite', 'carburant', 'kilometrage', 'marque', 'modele',\n",
              "       'nombre_portres', 'premiere_main', 'puissance_fiscale', 'etat', 'prix'],\n",
              "      dtype='object')"
            ]
          },
          "execution_count": 21,
          "metadata": {},
          "output_type": "execute_result"
        }
      ],
      "source": [
        "df.columns"
      ]
    },
    {
      "cell_type": "markdown",
      "metadata": {
        "id": "MibOswQVNpL3"
      },
      "source": [
        "**Voir s'il y a des données manquantes**"
      ]
    },
    {
      "cell_type": "code",
      "execution_count": 22,
      "metadata": {
        "colab": {
          "base_uri": "https://localhost:8080/",
          "height": 491
        },
        "id": "jgy7cbqgNuUM",
        "outputId": "6ff708c0-8114-4211-c32a-ffb0257da493"
      },
      "outputs": [
        {
          "data": {
            "text/plain": [
              "annee                0\n",
              "boite                0\n",
              "carburant            0\n",
              "kilometrage          0\n",
              "marque               0\n",
              "modele               0\n",
              "nombre_portres       0\n",
              "premiere_main        0\n",
              "puissance_fiscale    0\n",
              "etat                 0\n",
              "prix                 0\n",
              "dtype: int64"
            ]
          },
          "execution_count": 22,
          "metadata": {},
          "output_type": "execute_result"
        }
      ],
      "source": [
        "df.isnull().sum()\n"
      ]
    },
    {
      "cell_type": "markdown",
      "metadata": {
        "id": "gdVbnODFNfYX"
      },
      "source": [
        "**Sélectionner les colonnes ***utiles*****"
      ]
    },
    {
      "cell_type": "code",
      "execution_count": 23,
      "metadata": {
        "id": "vK36pblMN3OV"
      },
      "outputs": [],
      "source": [
        "# Sélectionner les nouvelles variables\n",
        "features = ['annee', 'kilometrage', 'puissance_fiscale', 'etat', 'marque', 'modele']\n",
        "target = 'prix'\n",
        "\n",
        "# Créer X (features) et y (target)\n",
        "X = df[features]\n",
        "y = df[target]\n",
        "\n",
        "# One-Hot Encoding des variables catégorielles (etat, marque, modele)\n",
        "X = pd.get_dummies(X, drop_first=True)\n",
        "\n",
        "# Supprimer les lignes avec des valeurs manquantes\n",
        "X = X.dropna()\n",
        "y = y[X.index]  # Assurer la correspondance avec X\n",
        "\n",
        "# Séparer en train / test (80/20)\n",
        "X_train, X_test, y_train, y_test = train_test_split(X, y, test_size=0.2, random_state=42)"
      ]
    },
    {
      "cell_type": "markdown",
      "metadata": {
        "id": "rmls3_vbP_GG"
      },
      "source": [
        "**Création et entraînement de modèle**"
      ]
    },
    {
      "cell_type": "code",
      "execution_count": 24,
      "metadata": {
        "colab": {
          "base_uri": "https://localhost:8080/",
          "height": 176
        },
        "id": "3MtV9wO4QEoI",
        "outputId": "bfa12a46-14ce-47ac-e01e-7f97c99cb890"
      },
      "outputs": [
        {
          "data": {
            "text/html": [
              "<style>#sk-container-id-2 {color: black;}#sk-container-id-2 pre{padding: 0;}#sk-container-id-2 div.sk-toggleable {background-color: white;}#sk-container-id-2 label.sk-toggleable__label {cursor: pointer;display: block;width: 100%;margin-bottom: 0;padding: 0.3em;box-sizing: border-box;text-align: center;}#sk-container-id-2 label.sk-toggleable__label-arrow:before {content: \"▸\";float: left;margin-right: 0.25em;color: #696969;}#sk-container-id-2 label.sk-toggleable__label-arrow:hover:before {color: black;}#sk-container-id-2 div.sk-estimator:hover label.sk-toggleable__label-arrow:before {color: black;}#sk-container-id-2 div.sk-toggleable__content {max-height: 0;max-width: 0;overflow: hidden;text-align: left;background-color: #f0f8ff;}#sk-container-id-2 div.sk-toggleable__content pre {margin: 0.2em;color: black;border-radius: 0.25em;background-color: #f0f8ff;}#sk-container-id-2 input.sk-toggleable__control:checked~div.sk-toggleable__content {max-height: 200px;max-width: 100%;overflow: auto;}#sk-container-id-2 input.sk-toggleable__control:checked~label.sk-toggleable__label-arrow:before {content: \"▾\";}#sk-container-id-2 div.sk-estimator input.sk-toggleable__control:checked~label.sk-toggleable__label {background-color: #d4ebff;}#sk-container-id-2 div.sk-label input.sk-toggleable__control:checked~label.sk-toggleable__label {background-color: #d4ebff;}#sk-container-id-2 input.sk-hidden--visually {border: 0;clip: rect(1px 1px 1px 1px);clip: rect(1px, 1px, 1px, 1px);height: 1px;margin: -1px;overflow: hidden;padding: 0;position: absolute;width: 1px;}#sk-container-id-2 div.sk-estimator {font-family: monospace;background-color: #f0f8ff;border: 1px dotted black;border-radius: 0.25em;box-sizing: border-box;margin-bottom: 0.5em;}#sk-container-id-2 div.sk-estimator:hover {background-color: #d4ebff;}#sk-container-id-2 div.sk-parallel-item::after {content: \"\";width: 100%;border-bottom: 1px solid gray;flex-grow: 1;}#sk-container-id-2 div.sk-label:hover label.sk-toggleable__label {background-color: #d4ebff;}#sk-container-id-2 div.sk-serial::before {content: \"\";position: absolute;border-left: 1px solid gray;box-sizing: border-box;top: 0;bottom: 0;left: 50%;z-index: 0;}#sk-container-id-2 div.sk-serial {display: flex;flex-direction: column;align-items: center;background-color: white;padding-right: 0.2em;padding-left: 0.2em;position: relative;}#sk-container-id-2 div.sk-item {position: relative;z-index: 1;}#sk-container-id-2 div.sk-parallel {display: flex;align-items: stretch;justify-content: center;background-color: white;position: relative;}#sk-container-id-2 div.sk-item::before, #sk-container-id-2 div.sk-parallel-item::before {content: \"\";position: absolute;border-left: 1px solid gray;box-sizing: border-box;top: 0;bottom: 0;left: 50%;z-index: -1;}#sk-container-id-2 div.sk-parallel-item {display: flex;flex-direction: column;z-index: 1;position: relative;background-color: white;}#sk-container-id-2 div.sk-parallel-item:first-child::after {align-self: flex-end;width: 50%;}#sk-container-id-2 div.sk-parallel-item:last-child::after {align-self: flex-start;width: 50%;}#sk-container-id-2 div.sk-parallel-item:only-child::after {width: 0;}#sk-container-id-2 div.sk-dashed-wrapped {border: 1px dashed gray;margin: 0 0.4em 0.5em 0.4em;box-sizing: border-box;padding-bottom: 0.4em;background-color: white;}#sk-container-id-2 div.sk-label label {font-family: monospace;font-weight: bold;display: inline-block;line-height: 1.2em;}#sk-container-id-2 div.sk-label-container {text-align: center;}#sk-container-id-2 div.sk-container {/* jupyter's `normalize.less` sets `[hidden] { display: none; }` but bootstrap.min.css set `[hidden] { display: none !important; }` so we also need the `!important` here to be able to override the default hidden behavior on the sphinx rendered scikit-learn.org. See: https://github.com/scikit-learn/scikit-learn/issues/21755 */display: inline-block !important;position: relative;}#sk-container-id-2 div.sk-text-repr-fallback {display: none;}</style><div id=\"sk-container-id-2\" class=\"sk-top-container\"><div class=\"sk-text-repr-fallback\"><pre>LinearRegression()</pre><b>In a Jupyter environment, please rerun this cell to show the HTML representation or trust the notebook. <br />On GitHub, the HTML representation is unable to render, please try loading this page with nbviewer.org.</b></div><div class=\"sk-container\" hidden><div class=\"sk-item\"><div class=\"sk-estimator sk-toggleable\"><input class=\"sk-toggleable__control sk-hidden--visually\" id=\"sk-estimator-id-2\" type=\"checkbox\" checked><label for=\"sk-estimator-id-2\" class=\"sk-toggleable__label sk-toggleable__label-arrow\">LinearRegression</label><div class=\"sk-toggleable__content\"><pre>LinearRegression()</pre></div></div></div></div></div>"
            ],
            "text/plain": [
              "LinearRegression()"
            ]
          },
          "execution_count": 24,
          "metadata": {},
          "output_type": "execute_result"
        }
      ],
      "source": [
        "# Créer le modèle\n",
        "model = LinearRegression()\n",
        "\n",
        "# Entraîner le modèle\n",
        "model.fit(X_train, y_train)\n"
      ]
    },
    {
      "cell_type": "code",
      "execution_count": 27,
      "metadata": {},
      "outputs": [],
      "source": [
        "from sklearn.preprocessing import StandardScaler\n",
        "\n",
        "# Apply before model fitting\n",
        "scaler = StandardScaler()\n",
        "X_train_scaled = scaler.fit_transform(X_train)\n",
        "X_test_scaled = scaler.transform(X_test)\n",
        "\n",
        "# Use scaled data for model training and predictions\n",
        "model.fit(X_train_scaled, y_train)\n",
        "y_pred = model.predict(X_test_scaled)\n",
        "\n",
        "# Remove extreme outliers in price\n",
        "Q1 = df['prix'].quantile(0.25)\n",
        "Q3 = df['prix'].quantile(0.75)\n",
        "IQR = Q3 - Q1\n",
        "lower_bound = Q1 - 1.5 * IQR\n",
        "upper_bound = Q3 + 1.5 * IQR\n",
        "\n",
        "df_filtered = df[(df['prix'] >= lower_bound) & (df['prix'] <= upper_bound)]"
      ]
    },
    {
      "cell_type": "markdown",
      "metadata": {
        "id": "1xpmRWBUQJdF"
      },
      "source": [
        "**Evaluation du modèle :**\n",
        "on calcule les métriques pour évaluer la performance"
      ]
    },
    {
      "cell_type": "code",
      "execution_count": 28,
      "metadata": {
        "colab": {
          "base_uri": "https://localhost:8080/",
          "height": 211
        },
        "id": "kR4V_EZxQNmv",
        "outputId": "28dd6687-a4e4-4ffc-d988-508853b1229d"
      },
      "outputs": [
        {
          "name": "stdout",
          "output_type": "stream",
          "text": [
            "Mean Absolute Error (MAE): 8.149218729896494e+16\n",
            "Root Mean Squared Error (RMSE): 1.113328445427156e+17\n",
            "R² (coefficient de détermination): -9.876059533876221e+23\n",
            "Approximation de l'Accuracy: -1.113328445427155e+17%\n"
          ]
        },
        {
          "name": "stderr",
          "output_type": "stream",
          "text": [
            "c:\\project\\venv\\Lib\\site-packages\\sklearn\\base.py:458: UserWarning: X has feature names, but LinearRegression was fitted without feature names\n",
            "  def _repr_html_inner(self):\n"
          ]
        }
      ],
      "source": [
        "# Prédictions sur les données de test\n",
        "y_pred = model.predict(X_test)\n",
        "\n",
        "# Calculer les métriques d'évaluation\n",
        "mae = mean_absolute_error(y_test, y_pred)\n",
        "rmse = (mean_squared_error(y_test, y_pred))**0.5\n",
        "r2 = r2_score(y_test, y_pred)\n",
        "\n",
        "# Approximation de l'accuracy (pas une véritable accuracy)\n",
        "accuracy_approx = 100 - rmse\n",
        "\n",
        "# 8. Afficher les résultats\n",
        "print(f\"Mean Absolute Error (MAE): {mae}\")\n",
        "print(f\"Root Mean Squared Error (RMSE): {rmse}\")\n",
        "print(f\"R² (coefficient de détermination): {r2}\")\n",
        "print(f\"Approximation de l'Accuracy: {accuracy_approx}%\")"
      ]
    }
  ],
  "metadata": {
    "colab": {
      "provenance": []
    },
    "kernelspec": {
      "display_name": "venv",
      "language": "python",
      "name": "python3"
    },
    "language_info": {
      "codemirror_mode": {
        "name": "ipython",
        "version": 3
      },
      "file_extension": ".py",
      "mimetype": "text/x-python",
      "name": "python",
      "nbconvert_exporter": "python",
      "pygments_lexer": "ipython3",
      "version": "3.11.9"
    }
  },
  "nbformat": 4,
  "nbformat_minor": 0
}
