{
 "cells": [
  {
   "cell_type": "markdown",
   "id": "c6ed7c11",
   "metadata": {},
   "source": [
    "#### Prédiction du prix des voitures d'occasion : Introduction et méthodologie\n",
    "\n",
    "Ce notebook présente une démarche complète de data science visant à prédire le prix de voitures d'occasion à partir de leurs caractéristiques. Nous utilisons un jeu de données annoté, où chaque voiture est décrite par des variables (année, kilométrage, marque, modèle, etc.) et associée à un prix de vente connu. Il s'agit donc d'un problème de **régression supervisée** sur des valeurs continues.\n",
    "\n",
    "#### Objectif\n",
    "\n",
    "L'objectif est de construire des modèles capables d'estimer le prix d'une voiture à partir de ses attributs, afin d'aider vendeurs et acheteurs à mieux évaluer la valeur d'un véhicule.\n",
    "\n",
    "#### Démarche suivie\n",
    "\n",
    "- **Exploration et préparation des données** : Nettoyage, gestion des valeurs manquantes, transformation des variables (logarithme pour prix et kilométrage), regroupement des catégories rares, et encodage des variables catégorielles.\n",
    "- **Séparation des données** : Division en ensembles d'entraînement et de test pour évaluer la capacité de généralisation des modèles.\n",
    "- **Standardisation** : Mise à l'échelle des variables numériques pour garantir de bonnes performances des algorithmes.\n",
    "- **Modélisation** : Application de plusieurs algorithmes de régression :\n",
    "    - **Régression Linéaire** : Modèle de base pour établir une première référence.\n",
    "    - **Régression Lasso** : Variante de la régression linéaire intégrant une régularisation L1 pour limiter le surapprentissage et sélectionner les variables pertinentes.\n",
    "- **Évaluation** : Analyse des performances sur les ensembles d'entraînement et de test à l'aide de métriques adaptées (R², MAE, MSE).\n",
    "- **Prédiction** : Utilisation des modèles pour estimer le prix de nouveaux véhicules.\n",
    "\n",
    "> **Remarque :** Ce notebook se concentre sur la régression linéaire et la régression Lasso. L'utilisation d'un modèle plus avancé comme **XGBoost** sera abordée dans un notebook séparé.\n",
    "\n",
    "#### Pourquoi un problème de régression supervisée ?\n",
    "\n",
    "- **Supervisé** : Les données sont annotées, c'est-à-dire que pour chaque exemple (voiture), la valeur cible (prix) est connue.\n",
    "- **Régression** : La variable à prédire (prix) est continue, contrairement à un problème de classification où la cible serait discrète (catégorie).\n",
    "- **Valeur ajoutée** : Ce type de modèle permet d'automatiser l'estimation de prix, d'objectiver les transactions et d'identifier les facteurs influençant la valeur d'un véhicule.\n",
    "\n",
    "Ce notebook illustre ainsi toutes les étapes d'un projet de machine learning supervisé appliqué à la prédiction de valeurs continues."
   ]
  },
  {
   "cell_type": "code",
   "execution_count": 134,
   "id": "bdb0ffbd",
   "metadata": {},
   "outputs": [],
   "source": [
    "import pandas as pd\n",
    "import numpy as np\n",
    "import matplotlib.pyplot as plt\n",
    "import seaborn as sns\n",
    "from sklearn.model_selection import train_test_split, cross_val_score\n",
    "from sklearn.linear_model import LinearRegression, Lasso\n",
    "from sklearn.ensemble import RandomForestRegressor\n",
    "from sklearn.preprocessing import StandardScaler\n",
    "from sklearn import metrics"
   ]
  },
  {
   "cell_type": "markdown",
   "id": "26ea769a",
   "metadata": {},
   "source": [
    "**Chargement et exploration des données**\n",
    "\n",
    "Charger les données des voitures depuis un fichier CSV et effectuer une analyse préliminaire."
   ]
  },
  {
   "cell_type": "code",
   "execution_count": 135,
   "id": "24cefda8",
   "metadata": {},
   "outputs": [
    {
     "name": "stdout",
     "output_type": "stream",
     "text": [
      "5 premières lignes du dataframe:\n",
      "   annee        boite carburant  kilometrage      marque    modele  \\\n",
      "0   2023  Automatique   Essence      22499.5  Alfa Romeo    Tonale   \n",
      "1   2018     Manuelle    Diesel     104999.5       Dacia    Duster   \n",
      "2   2023  Automatique    Diesel      67499.5     Hyundai    Accent   \n",
      "3   2023  Automatique    Diesel      22499.5     Peugeot      5008   \n",
      "4   2021  Automatique    Diesel      77499.5         Kia  Sportage   \n",
      "\n",
      "   nombre_portres premiere_main  puissance_fiscale       etat    prix  \n",
      "0               5           Oui                  8  Excellent  306000  \n",
      "1               5           Oui                  6  Excellent  155000  \n",
      "2               5           Oui                  6  Excellent  179000  \n",
      "3               5           Oui                  8  Excellent  349000  \n",
      "4               5           Oui                 12   Très bon  685000  \n",
      "\n",
      "Nombre de lignes et de colonnes dans le jeu de données:\n",
      "(68415, 11)\n",
      "\n",
      "Informations sur le jeu de données:\n",
      "<class 'pandas.core.frame.DataFrame'>\n",
      "RangeIndex: 68415 entries, 0 to 68414\n",
      "Data columns (total 11 columns):\n",
      " #   Column             Non-Null Count  Dtype  \n",
      "---  ------             --------------  -----  \n",
      " 0   annee              68415 non-null  int64  \n",
      " 1   boite              68415 non-null  object \n",
      " 2   carburant          68415 non-null  object \n",
      " 3   kilometrage        68415 non-null  float64\n",
      " 4   marque             68415 non-null  object \n",
      " 5   modele             68415 non-null  object \n",
      " 6   nombre_portres     68415 non-null  int64  \n",
      " 7   premiere_main      68415 non-null  object \n",
      " 8   puissance_fiscale  68415 non-null  int64  \n",
      " 9   etat               68415 non-null  object \n",
      " 10  prix               68415 non-null  int64  \n",
      "dtypes: float64(1), int64(4), object(6)\n",
      "memory usage: 5.7+ MB\n",
      "None\n",
      "\n",
      "Nombre de valeurs manquantes dans le jeu de données:\n",
      "annee                0\n",
      "boite                0\n",
      "carburant            0\n",
      "kilometrage          0\n",
      "marque               0\n",
      "modele               0\n",
      "nombre_portres       0\n",
      "premiere_main        0\n",
      "puissance_fiscale    0\n",
      "etat                 0\n",
      "prix                 0\n",
      "dtype: int64\n"
     ]
    }
   ],
   "source": [
    "import os\n",
    "\n",
    "# Lecture du fichier nettoyé\n",
    "# Définir le chemin relatif à la racine du projet\n",
    "project_root = os.path.dirname(os.path.abspath(''))\n",
    "data_path = os.path.join(project_root, 'data', 'avito_cars_clean.csv')\n",
    "car_dataset = pd.read_csv(data_path)\n",
    "\n",
    "# Inspection des 5 premières lignes du dataframe\n",
    "print(\"5 premières lignes du dataframe:\")\n",
    "print(car_dataset.head())\n",
    "\n",
    "# Vérification du nombre de lignes et de colonnes\n",
    "print(\"\\nNombre de lignes et de colonnes dans le jeu de données:\")\n",
    "print(car_dataset.shape)\n",
    "\n",
    "# Obtention d'informations sur le jeu de données\n",
    "print(\"\\nInformations sur le jeu de données:\")\n",
    "print(car_dataset.info())\n",
    "\n",
    "# Vérification du nombre de valeurs manquantes\n",
    "print(\"\\nNombre de valeurs manquantes dans le jeu de données:\")\n",
    "print(car_dataset.isnull().sum())"
   ]
  },
  {
   "cell_type": "markdown",
   "id": "d7d48c26",
   "metadata": {},
   "source": [
    "**Analyse des variables catégorielles**\n",
    "\n",
    "Examiner la répartition des valeurs dans les variables catégorielles du jeu de données."
   ]
  },
  {
   "cell_type": "code",
   "execution_count": 136,
   "id": "b67d2b4f",
   "metadata": {},
   "outputs": [
    {
     "name": "stdout",
     "output_type": "stream",
     "text": [
      "\n",
      "Distribution des données catégorielles:\n",
      "boite\n",
      "Manuelle       47714\n",
      "Automatique    20701\n",
      "Name: count, dtype: int64\n",
      "carburant\n",
      "Diesel        54300\n",
      "Essence       13181\n",
      "Hybride         718\n",
      "Electrique      180\n",
      "LPG              36\n",
      "Name: count, dtype: int64\n",
      "marque\n",
      "Renault          8572\n",
      "Volkswagen       7982\n",
      "Peugeot          6261\n",
      "Dacia            5938\n",
      "Mercedes-Benz    4830\n",
      "                 ... \n",
      "Lincoln             1\n",
      "Force               1\n",
      "Rolls-Royce         1\n",
      "Lada                1\n",
      "UFO                 1\n",
      "Name: count, Length: 75, dtype: int64\n",
      "modele\n",
      "Clio        2707\n",
      "Logan       2140\n",
      "Sandero     1397\n",
      "Tiguan      1394\n",
      "Kangoo      1325\n",
      "            ... \n",
      "Kubistar       1\n",
      "UX             1\n",
      "Dzire          1\n",
      "Allante        1\n",
      "Orion          1\n",
      "Name: count, Length: 803, dtype: int64\n",
      "premiere_main\n",
      "Non    47621\n",
      "Oui    20794\n",
      "Name: count, dtype: int64\n",
      "etat\n",
      "Excellent      31359\n",
      "Très bon       24208\n",
      "Bon             9256\n",
      "Neuf            2115\n",
      "Correct         1380\n",
      "Endommagé         53\n",
      "Pour Pièces       44\n",
      "Name: count, dtype: int64\n"
     ]
    }
   ],
   "source": [
    "# Vérification de la distribution des données catégorielles\n",
    "print(\"\\nDistribution des données catégorielles:\")\n",
    "print(car_dataset['boite'].value_counts())\n",
    "print(car_dataset['carburant'].value_counts())\n",
    "print(car_dataset['marque'].value_counts())\n",
    "print(car_dataset['modele'].value_counts())\n",
    "print(car_dataset['premiere_main'].value_counts())\n",
    "print(car_dataset['etat'].value_counts())"
   ]
  },
  {
   "cell_type": "markdown",
   "id": "3a39df81",
   "metadata": {},
   "source": [
    "**Regroupement des catégories rares**\n",
    "\n",
    "Regrouper les marques et modèles peu fréquents en une catégorie 'Other' pour simplifier le modèle."
   ]
  },
  {
   "cell_type": "code",
   "execution_count": 137,
   "id": "ad8f73ab",
   "metadata": {},
   "outputs": [],
   "source": [
    "# Ingénierie des caractéristiques : Regroupement des catégories rares de marque et modèle\n",
    "marque_counts = car_dataset['marque'].value_counts()\n",
    "modele_counts = car_dataset['modele'].value_counts()\n",
    "car_dataset['marque'] = car_dataset['marque'].apply(lambda x: x if marque_counts[x] >= 100 else 'Other')\n",
    "car_dataset['modele'] = car_dataset['modele'].apply(lambda x: x if modele_counts[x] >= 100 else 'Other')"
   ]
  },
  {
   "cell_type": "markdown",
   "id": "4e7a4265",
   "metadata": {},
   "source": [
    "**Visualisation des données après regroupement**\n",
    "\n",
    "Afficher les premières lignes du DataFrame après le regroupement des catégories."
   ]
  },
  {
   "cell_type": "code",
   "execution_count": 138,
   "id": "1b201a26",
   "metadata": {},
   "outputs": [
    {
     "data": {
      "text/html": [
       "<div>\n",
       "<style scoped>\n",
       "    .dataframe tbody tr th:only-of-type {\n",
       "        vertical-align: middle;\n",
       "    }\n",
       "\n",
       "    .dataframe tbody tr th {\n",
       "        vertical-align: top;\n",
       "    }\n",
       "\n",
       "    .dataframe thead th {\n",
       "        text-align: right;\n",
       "    }\n",
       "</style>\n",
       "<table border=\"1\" class=\"dataframe\">\n",
       "  <thead>\n",
       "    <tr style=\"text-align: right;\">\n",
       "      <th></th>\n",
       "      <th>annee</th>\n",
       "      <th>boite</th>\n",
       "      <th>carburant</th>\n",
       "      <th>kilometrage</th>\n",
       "      <th>marque</th>\n",
       "      <th>modele</th>\n",
       "      <th>nombre_portres</th>\n",
       "      <th>premiere_main</th>\n",
       "      <th>puissance_fiscale</th>\n",
       "      <th>etat</th>\n",
       "      <th>prix</th>\n",
       "    </tr>\n",
       "  </thead>\n",
       "  <tbody>\n",
       "    <tr>\n",
       "      <th>0</th>\n",
       "      <td>2023</td>\n",
       "      <td>Automatique</td>\n",
       "      <td>Essence</td>\n",
       "      <td>22499.5</td>\n",
       "      <td>Alfa Romeo</td>\n",
       "      <td>Other</td>\n",
       "      <td>5</td>\n",
       "      <td>Oui</td>\n",
       "      <td>8</td>\n",
       "      <td>Excellent</td>\n",
       "      <td>306000</td>\n",
       "    </tr>\n",
       "    <tr>\n",
       "      <th>1</th>\n",
       "      <td>2018</td>\n",
       "      <td>Manuelle</td>\n",
       "      <td>Diesel</td>\n",
       "      <td>104999.5</td>\n",
       "      <td>Dacia</td>\n",
       "      <td>Duster</td>\n",
       "      <td>5</td>\n",
       "      <td>Oui</td>\n",
       "      <td>6</td>\n",
       "      <td>Excellent</td>\n",
       "      <td>155000</td>\n",
       "    </tr>\n",
       "    <tr>\n",
       "      <th>2</th>\n",
       "      <td>2023</td>\n",
       "      <td>Automatique</td>\n",
       "      <td>Diesel</td>\n",
       "      <td>67499.5</td>\n",
       "      <td>Hyundai</td>\n",
       "      <td>Accent</td>\n",
       "      <td>5</td>\n",
       "      <td>Oui</td>\n",
       "      <td>6</td>\n",
       "      <td>Excellent</td>\n",
       "      <td>179000</td>\n",
       "    </tr>\n",
       "    <tr>\n",
       "      <th>3</th>\n",
       "      <td>2023</td>\n",
       "      <td>Automatique</td>\n",
       "      <td>Diesel</td>\n",
       "      <td>22499.5</td>\n",
       "      <td>Peugeot</td>\n",
       "      <td>Other</td>\n",
       "      <td>5</td>\n",
       "      <td>Oui</td>\n",
       "      <td>8</td>\n",
       "      <td>Excellent</td>\n",
       "      <td>349000</td>\n",
       "    </tr>\n",
       "    <tr>\n",
       "      <th>4</th>\n",
       "      <td>2021</td>\n",
       "      <td>Automatique</td>\n",
       "      <td>Diesel</td>\n",
       "      <td>77499.5</td>\n",
       "      <td>Kia</td>\n",
       "      <td>Sportage</td>\n",
       "      <td>5</td>\n",
       "      <td>Oui</td>\n",
       "      <td>12</td>\n",
       "      <td>Très bon</td>\n",
       "      <td>685000</td>\n",
       "    </tr>\n",
       "  </tbody>\n",
       "</table>\n",
       "</div>"
      ],
      "text/plain": [
       "   annee        boite carburant  kilometrage      marque    modele  \\\n",
       "0   2023  Automatique   Essence      22499.5  Alfa Romeo     Other   \n",
       "1   2018     Manuelle    Diesel     104999.5       Dacia    Duster   \n",
       "2   2023  Automatique    Diesel      67499.5     Hyundai    Accent   \n",
       "3   2023  Automatique    Diesel      22499.5     Peugeot     Other   \n",
       "4   2021  Automatique    Diesel      77499.5         Kia  Sportage   \n",
       "\n",
       "   nombre_portres premiere_main  puissance_fiscale       etat    prix  \n",
       "0               5           Oui                  8  Excellent  306000  \n",
       "1               5           Oui                  6  Excellent  155000  \n",
       "2               5           Oui                  6  Excellent  179000  \n",
       "3               5           Oui                  8  Excellent  349000  \n",
       "4               5           Oui                 12   Très bon  685000  "
      ]
     },
     "execution_count": 138,
     "metadata": {},
     "output_type": "execute_result"
    }
   ],
   "source": [
    "car_dataset.head()"
   ]
  },
  {
   "cell_type": "markdown",
   "id": "2905a337",
   "metadata": {},
   "source": [
    "**Transformation logarithmique**\n",
    "\n",
    "Appliquer une transformation logarithmique au prix et au kilométrage pour réduire l'impact des valeurs extrêmes."
   ]
  },
  {
   "cell_type": "code",
   "execution_count": 139,
   "id": "f6225595",
   "metadata": {},
   "outputs": [],
   "source": [
    "# Transformation logarithmique pour prix et kilométrage pour gérer les valeurs aberrantes\n",
    "car_dataset['prix'] = np.log1p(car_dataset['prix'])\n",
    "car_dataset['kilometrage'] = np.log1p(car_dataset['kilometrage'])"
   ]
  },
  {
   "cell_type": "markdown",
   "id": "97fbdc72",
   "metadata": {},
   "source": [
    "**Encodage des variables catégorielles**\n",
    "\n",
    "Convertir les variables catégorielles en format numérique avec l'encodage one-hot."
   ]
  },
  {
   "cell_type": "code",
   "execution_count": 140,
   "id": "c44ed4bd",
   "metadata": {},
   "outputs": [],
   "source": [
    "# Encodage one-hot des colonnes catégorielles\n",
    "categorical_cols = ['boite', 'carburant', 'marque', 'modele', 'premiere_main', 'etat']\n",
    "car_dataset = pd.get_dummies(car_dataset, columns=categorical_cols, drop_first=True)"
   ]
  },
  {
   "cell_type": "markdown",
   "id": "b179757e",
   "metadata": {},
   "source": [
    "**Préparation des features et de la cible**\n",
    "\n",
    "Séparer les données en variables explicatives (X) et variable à prédire (Y)."
   ]
  },
  {
   "cell_type": "code",
   "execution_count": 141,
   "id": "90e4afca",
   "metadata": {},
   "outputs": [],
   "source": [
    "# Division des données en caractéristiques (X) et variable cible (Y)\n",
    "X = car_dataset.drop(['prix'], axis=1)\n",
    "Y = car_dataset['prix']"
   ]
  },
  {
   "cell_type": "markdown",
   "id": "d4435efa",
   "metadata": {},
   "source": [
    "**Division en ensembles d'entraînement et de test**\n",
    "\n",
    "Répartir les données en ensembles d'entraînement et de test pour évaluer les modèles."
   ]
  },
  {
   "cell_type": "code",
   "execution_count": 142,
   "id": "9aa4bb66",
   "metadata": {},
   "outputs": [],
   "source": [
    "# Séparation entre données d'entraînement et de test\n",
    "X_train, X_test, Y_train, Y_test = train_test_split(X, Y, test_size=0.2, random_state=42)"
   ]
  },
  {
   "cell_type": "markdown",
   "id": "310e5c9d",
   "metadata": {},
   "source": [
    "**Standardisation des variables numériques**\n",
    "\n",
    "Normaliser les variables numériques pour améliorer la performance des modèles."
   ]
  },
  {
   "cell_type": "code",
   "execution_count": 143,
   "id": "c9453483",
   "metadata": {},
   "outputs": [],
   "source": [
    "# Mise à l'échelle des caractéristiques numériques\n",
    "numerical_cols = ['annee', 'kilometrage', 'nombre_portres', 'puissance_fiscale']\n",
    "scaler = StandardScaler()\n",
    "X_train[numerical_cols] = scaler.fit_transform(X_train[numerical_cols])\n",
    "X_test[numerical_cols] = scaler.transform(X_test[numerical_cols])"
   ]
  },
  {
   "cell_type": "markdown",
   "id": "b1ffd2af",
   "metadata": {},
   "source": [
    "**Création et entraînement du modèle de Régression Linéaire**\n",
    "\n",
    "Créer et entraîner un modèle de régression linéaire avec les données d'entraînement."
   ]
  },
  {
   "cell_type": "code",
   "execution_count": 144,
   "id": "a2bff651",
   "metadata": {},
   "outputs": [
    {
     "data": {
      "text/html": [
       "<style>#sk-container-id-13 {color: black;}#sk-container-id-13 pre{padding: 0;}#sk-container-id-13 div.sk-toggleable {background-color: white;}#sk-container-id-13 label.sk-toggleable__label {cursor: pointer;display: block;width: 100%;margin-bottom: 0;padding: 0.3em;box-sizing: border-box;text-align: center;}#sk-container-id-13 label.sk-toggleable__label-arrow:before {content: \"▸\";float: left;margin-right: 0.25em;color: #696969;}#sk-container-id-13 label.sk-toggleable__label-arrow:hover:before {color: black;}#sk-container-id-13 div.sk-estimator:hover label.sk-toggleable__label-arrow:before {color: black;}#sk-container-id-13 div.sk-toggleable__content {max-height: 0;max-width: 0;overflow: hidden;text-align: left;background-color: #f0f8ff;}#sk-container-id-13 div.sk-toggleable__content pre {margin: 0.2em;color: black;border-radius: 0.25em;background-color: #f0f8ff;}#sk-container-id-13 input.sk-toggleable__control:checked~div.sk-toggleable__content {max-height: 200px;max-width: 100%;overflow: auto;}#sk-container-id-13 input.sk-toggleable__control:checked~label.sk-toggleable__label-arrow:before {content: \"▾\";}#sk-container-id-13 div.sk-estimator input.sk-toggleable__control:checked~label.sk-toggleable__label {background-color: #d4ebff;}#sk-container-id-13 div.sk-label input.sk-toggleable__control:checked~label.sk-toggleable__label {background-color: #d4ebff;}#sk-container-id-13 input.sk-hidden--visually {border: 0;clip: rect(1px 1px 1px 1px);clip: rect(1px, 1px, 1px, 1px);height: 1px;margin: -1px;overflow: hidden;padding: 0;position: absolute;width: 1px;}#sk-container-id-13 div.sk-estimator {font-family: monospace;background-color: #f0f8ff;border: 1px dotted black;border-radius: 0.25em;box-sizing: border-box;margin-bottom: 0.5em;}#sk-container-id-13 div.sk-estimator:hover {background-color: #d4ebff;}#sk-container-id-13 div.sk-parallel-item::after {content: \"\";width: 100%;border-bottom: 1px solid gray;flex-grow: 1;}#sk-container-id-13 div.sk-label:hover label.sk-toggleable__label {background-color: #d4ebff;}#sk-container-id-13 div.sk-serial::before {content: \"\";position: absolute;border-left: 1px solid gray;box-sizing: border-box;top: 0;bottom: 0;left: 50%;z-index: 0;}#sk-container-id-13 div.sk-serial {display: flex;flex-direction: column;align-items: center;background-color: white;padding-right: 0.2em;padding-left: 0.2em;position: relative;}#sk-container-id-13 div.sk-item {position: relative;z-index: 1;}#sk-container-id-13 div.sk-parallel {display: flex;align-items: stretch;justify-content: center;background-color: white;position: relative;}#sk-container-id-13 div.sk-item::before, #sk-container-id-13 div.sk-parallel-item::before {content: \"\";position: absolute;border-left: 1px solid gray;box-sizing: border-box;top: 0;bottom: 0;left: 50%;z-index: -1;}#sk-container-id-13 div.sk-parallel-item {display: flex;flex-direction: column;z-index: 1;position: relative;background-color: white;}#sk-container-id-13 div.sk-parallel-item:first-child::after {align-self: flex-end;width: 50%;}#sk-container-id-13 div.sk-parallel-item:last-child::after {align-self: flex-start;width: 50%;}#sk-container-id-13 div.sk-parallel-item:only-child::after {width: 0;}#sk-container-id-13 div.sk-dashed-wrapped {border: 1px dashed gray;margin: 0 0.4em 0.5em 0.4em;box-sizing: border-box;padding-bottom: 0.4em;background-color: white;}#sk-container-id-13 div.sk-label label {font-family: monospace;font-weight: bold;display: inline-block;line-height: 1.2em;}#sk-container-id-13 div.sk-label-container {text-align: center;}#sk-container-id-13 div.sk-container {/* jupyter's `normalize.less` sets `[hidden] { display: none; }` but bootstrap.min.css set `[hidden] { display: none !important; }` so we also need the `!important` here to be able to override the default hidden behavior on the sphinx rendered scikit-learn.org. See: https://github.com/scikit-learn/scikit-learn/issues/21755 */display: inline-block !important;position: relative;}#sk-container-id-13 div.sk-text-repr-fallback {display: none;}</style><div id=\"sk-container-id-13\" class=\"sk-top-container\"><div class=\"sk-text-repr-fallback\"><pre>LinearRegression()</pre><b>In a Jupyter environment, please rerun this cell to show the HTML representation or trust the notebook. <br />On GitHub, the HTML representation is unable to render, please try loading this page with nbviewer.org.</b></div><div class=\"sk-container\" hidden><div class=\"sk-item\"><div class=\"sk-estimator sk-toggleable\"><input class=\"sk-toggleable__control sk-hidden--visually\" id=\"sk-estimator-id-13\" type=\"checkbox\" checked><label for=\"sk-estimator-id-13\" class=\"sk-toggleable__label sk-toggleable__label-arrow\">LinearRegression</label><div class=\"sk-toggleable__content\"><pre>LinearRegression()</pre></div></div></div></div></div>"
      ],
      "text/plain": [
       "LinearRegression()"
      ]
     },
     "execution_count": 144,
     "metadata": {},
     "output_type": "execute_result"
    }
   ],
   "source": [
    "# Entraînement et évaluation de la Régression Linéaire standard\n",
    "lr_model = LinearRegression()\n",
    "lr_model.fit(X_train, Y_train)"
   ]
  },
  {
   "cell_type": "markdown",
   "id": "d9642ee9",
   "metadata": {},
   "source": [
    "**Évaluation du modèle de Régression Linéaire sur l'ensemble d'entraînement**\n",
    "\n",
    "Mesurer les performances du modèle sur les données d'entraînement avec différentes métriques."
   ]
  },
  {
   "cell_type": "code",
   "execution_count": 145,
   "id": "851fbe27",
   "metadata": {},
   "outputs": [
    {
     "name": "stdout",
     "output_type": "stream",
     "text": [
      "\n",
      "Régression Linéaire R² sur les données d'entraînement: 0.8102797426836399\n",
      "Régression Linéaire MAE sur les données d'entraînement: 0.19020948372162927\n",
      "Régression Linéaire MSE sur les données d'entraînement: 0.1079224631561993\n"
     ]
    }
   ],
   "source": [
    "# Prédiction sur les données d'entraînement (Régression Linéaire)\n",
    "train_data_prediction_lr = lr_model.predict(X_train)\n",
    "train_r2_lr = metrics.r2_score(Y_train, train_data_prediction_lr)\n",
    "train_mae_lr = metrics.mean_absolute_error(Y_train, train_data_prediction_lr)\n",
    "train_mse_lr = metrics.mean_squared_error(Y_train, train_data_prediction_lr)\n",
    "print(\"\\nRégression Linéaire R² sur les données d'entraînement:\", train_r2_lr)\n",
    "print(\"Régression Linéaire MAE sur les données d'entraînement:\", train_mae_lr)\n",
    "print(\"Régression Linéaire MSE sur les données d'entraînement:\", train_mse_lr)"
   ]
  },
  {
   "cell_type": "markdown",
   "id": "4a1532cb",
   "metadata": {},
   "source": [
    "**Évaluation du modèle de Régression Linéaire sur l'ensemble de test**\n",
    "\n",
    "Mesurer les performances du modèle sur les données de test pour vérifier sa capacité de généralisation."
   ]
  },
  {
   "cell_type": "code",
   "execution_count": 146,
   "id": "08549c0b",
   "metadata": {},
   "outputs": [
    {
     "name": "stdout",
     "output_type": "stream",
     "text": [
      "Régression Linéaire R² sur les données de test: 0.8057580524367022\n",
      "Régression Linéaire MAE sur les données de test: 0.1924973660593798\n",
      "Régression Linéaire MSE sur les données de test: 0.11114178763106641\n"
     ]
    }
   ],
   "source": [
    "# Prédiction sur les données de test (Régression Linéaire)\n",
    "test_data_prediction_lr = lr_model.predict(X_test)\n",
    "test_r2_lr = metrics.r2_score(Y_test, test_data_prediction_lr)\n",
    "test_mae_lr = metrics.mean_absolute_error(Y_test, test_data_prediction_lr)\n",
    "test_mse_lr = metrics.mean_squared_error(Y_test, test_data_prediction_lr)\n",
    "print(\"Régression Linéaire R² sur les données de test:\", test_r2_lr)\n",
    "print(\"Régression Linéaire MAE sur les données de test:\", test_mae_lr)\n",
    "print(\"Régression Linéaire MSE sur les données de test:\", test_mse_lr)"
   ]
  },
  {
   "cell_type": "markdown",
   "id": "0b20f9f7",
   "metadata": {},
   "source": [
    "**Création et entraînement du modèle Lasso**\n",
    "\n",
    "Créer et entraîner un modèle de régression Lasso qui ajoute une régularisation L1."
   ]
  },
  {
   "cell_type": "code",
   "execution_count": 147,
   "id": "9546def7",
   "metadata": {},
   "outputs": [
    {
     "data": {
      "text/html": [
       "<style>#sk-container-id-14 {color: black;}#sk-container-id-14 pre{padding: 0;}#sk-container-id-14 div.sk-toggleable {background-color: white;}#sk-container-id-14 label.sk-toggleable__label {cursor: pointer;display: block;width: 100%;margin-bottom: 0;padding: 0.3em;box-sizing: border-box;text-align: center;}#sk-container-id-14 label.sk-toggleable__label-arrow:before {content: \"▸\";float: left;margin-right: 0.25em;color: #696969;}#sk-container-id-14 label.sk-toggleable__label-arrow:hover:before {color: black;}#sk-container-id-14 div.sk-estimator:hover label.sk-toggleable__label-arrow:before {color: black;}#sk-container-id-14 div.sk-toggleable__content {max-height: 0;max-width: 0;overflow: hidden;text-align: left;background-color: #f0f8ff;}#sk-container-id-14 div.sk-toggleable__content pre {margin: 0.2em;color: black;border-radius: 0.25em;background-color: #f0f8ff;}#sk-container-id-14 input.sk-toggleable__control:checked~div.sk-toggleable__content {max-height: 200px;max-width: 100%;overflow: auto;}#sk-container-id-14 input.sk-toggleable__control:checked~label.sk-toggleable__label-arrow:before {content: \"▾\";}#sk-container-id-14 div.sk-estimator input.sk-toggleable__control:checked~label.sk-toggleable__label {background-color: #d4ebff;}#sk-container-id-14 div.sk-label input.sk-toggleable__control:checked~label.sk-toggleable__label {background-color: #d4ebff;}#sk-container-id-14 input.sk-hidden--visually {border: 0;clip: rect(1px 1px 1px 1px);clip: rect(1px, 1px, 1px, 1px);height: 1px;margin: -1px;overflow: hidden;padding: 0;position: absolute;width: 1px;}#sk-container-id-14 div.sk-estimator {font-family: monospace;background-color: #f0f8ff;border: 1px dotted black;border-radius: 0.25em;box-sizing: border-box;margin-bottom: 0.5em;}#sk-container-id-14 div.sk-estimator:hover {background-color: #d4ebff;}#sk-container-id-14 div.sk-parallel-item::after {content: \"\";width: 100%;border-bottom: 1px solid gray;flex-grow: 1;}#sk-container-id-14 div.sk-label:hover label.sk-toggleable__label {background-color: #d4ebff;}#sk-container-id-14 div.sk-serial::before {content: \"\";position: absolute;border-left: 1px solid gray;box-sizing: border-box;top: 0;bottom: 0;left: 50%;z-index: 0;}#sk-container-id-14 div.sk-serial {display: flex;flex-direction: column;align-items: center;background-color: white;padding-right: 0.2em;padding-left: 0.2em;position: relative;}#sk-container-id-14 div.sk-item {position: relative;z-index: 1;}#sk-container-id-14 div.sk-parallel {display: flex;align-items: stretch;justify-content: center;background-color: white;position: relative;}#sk-container-id-14 div.sk-item::before, #sk-container-id-14 div.sk-parallel-item::before {content: \"\";position: absolute;border-left: 1px solid gray;box-sizing: border-box;top: 0;bottom: 0;left: 50%;z-index: -1;}#sk-container-id-14 div.sk-parallel-item {display: flex;flex-direction: column;z-index: 1;position: relative;background-color: white;}#sk-container-id-14 div.sk-parallel-item:first-child::after {align-self: flex-end;width: 50%;}#sk-container-id-14 div.sk-parallel-item:last-child::after {align-self: flex-start;width: 50%;}#sk-container-id-14 div.sk-parallel-item:only-child::after {width: 0;}#sk-container-id-14 div.sk-dashed-wrapped {border: 1px dashed gray;margin: 0 0.4em 0.5em 0.4em;box-sizing: border-box;padding-bottom: 0.4em;background-color: white;}#sk-container-id-14 div.sk-label label {font-family: monospace;font-weight: bold;display: inline-block;line-height: 1.2em;}#sk-container-id-14 div.sk-label-container {text-align: center;}#sk-container-id-14 div.sk-container {/* jupyter's `normalize.less` sets `[hidden] { display: none; }` but bootstrap.min.css set `[hidden] { display: none !important; }` so we also need the `!important` here to be able to override the default hidden behavior on the sphinx rendered scikit-learn.org. See: https://github.com/scikit-learn/scikit-learn/issues/21755 */display: inline-block !important;position: relative;}#sk-container-id-14 div.sk-text-repr-fallback {display: none;}</style><div id=\"sk-container-id-14\" class=\"sk-top-container\"><div class=\"sk-text-repr-fallback\"><pre>Lasso(alpha=0.01, random_state=10)</pre><b>In a Jupyter environment, please rerun this cell to show the HTML representation or trust the notebook. <br />On GitHub, the HTML representation is unable to render, please try loading this page with nbviewer.org.</b></div><div class=\"sk-container\" hidden><div class=\"sk-item\"><div class=\"sk-estimator sk-toggleable\"><input class=\"sk-toggleable__control sk-hidden--visually\" id=\"sk-estimator-id-14\" type=\"checkbox\" checked><label for=\"sk-estimator-id-14\" class=\"sk-toggleable__label sk-toggleable__label-arrow\">Lasso</label><div class=\"sk-toggleable__content\"><pre>Lasso(alpha=0.01, random_state=10)</pre></div></div></div></div></div>"
      ],
      "text/plain": [
       "Lasso(alpha=0.01, random_state=10)"
      ]
     },
     "execution_count": 147,
     "metadata": {},
     "output_type": "execute_result"
    }
   ],
   "source": [
    "# Entraînement et évaluation de la Régression Linéaire avec Lasso\n",
    "lasso_model = Lasso(alpha=0.01, random_state=10)\n",
    "lasso_model.fit(X_train, Y_train)"
   ]
  },
  {
   "cell_type": "markdown",
   "id": "5004ff3a",
   "metadata": {},
   "source": [
    "**Évaluation du modèle Lasso sur l'ensemble d'entraînement**\n",
    "\n",
    "Mesurer les performances du modèle Lasso sur les données d'entraînement."
   ]
  },
  {
   "cell_type": "code",
   "execution_count": 148,
   "id": "25624c99",
   "metadata": {},
   "outputs": [
    {
     "name": "stdout",
     "output_type": "stream",
     "text": [
      "\n",
      "Régression Lasso R² sur les données d'entraînement: 0.7442956046985733\n",
      "Régression Lasso MAE sur les données d'entraînement: 0.2539057893661868\n",
      "Régression Lasso MSE sur les données d'entraînement: 0.1454575730138268\n"
     ]
    }
   ],
   "source": [
    "# Prédiction sur les données d'entraînement (Lasso)\n",
    "train_data_prediction_lasso = lasso_model.predict(X_train)\n",
    "train_r2_lasso = metrics.r2_score(Y_train, train_data_prediction_lasso)\n",
    "train_mae_lasso = metrics.mean_absolute_error(Y_train, train_data_prediction_lasso)\n",
    "train_mse_lasso = metrics.mean_squared_error(Y_train, train_data_prediction_lasso)\n",
    "print(\"\\nRégression Lasso R² sur les données d'entraînement:\", train_r2_lasso)\n",
    "print(\"Régression Lasso MAE sur les données d'entraînement:\", train_mae_lasso)\n",
    "print(\"Régression Lasso MSE sur les données d'entraînement:\", train_mse_lasso)"
   ]
  },
  {
   "cell_type": "markdown",
   "id": "6ab7bcc5",
   "metadata": {},
   "source": [
    "**Évaluation du modèle Lasso sur l'ensemble de test**\n",
    "\n",
    "Mesurer les performances du modèle Lasso sur les données de test."
   ]
  },
  {
   "cell_type": "code",
   "execution_count": 149,
   "id": "ef2b46ab",
   "metadata": {},
   "outputs": [
    {
     "name": "stdout",
     "output_type": "stream",
     "text": [
      "Régression Lasso R² sur les données de test: 0.7396760085523575\n",
      "Régression Lasso MAE sur les données de test: 0.2562146515863321\n",
      "Régression Lasso MSE sur les données de test: 0.14895275781415365\n"
     ]
    }
   ],
   "source": [
    "# Prédiction sur les données de test (Lasso)\n",
    "test_data_prediction_lasso = lasso_model.predict(X_test)\n",
    "test_r2_lasso = metrics.r2_score(Y_test, test_data_prediction_lasso)\n",
    "test_mae_lasso = metrics.mean_absolute_error(Y_test, test_data_prediction_lasso)\n",
    "test_mse_lasso = metrics.mean_squared_error(Y_test, test_data_prediction_lasso)\n",
    "print(\"Régression Lasso R² sur les données de test:\", test_r2_lasso)\n",
    "print(\"Régression Lasso MAE sur les données de test:\", test_mae_lasso)\n",
    "print(\"Régression Lasso MSE sur les données de test:\", test_mse_lasso)"
   ]
  },
  {
   "cell_type": "markdown",
   "id": "6aab56a9",
   "metadata": {},
   "source": [
    "**Prédiction sur un nouvel exemple**\n",
    "\n",
    "Utiliser les modèles pour prédire le prix d'une nouvelle voiture avec des caractéristiques spécifiques."
   ]
  },
  {
   "cell_type": "code",
   "execution_count": 150,
   "id": "ddc5b129",
   "metadata": {},
   "outputs": [
    {
     "name": "stdout",
     "output_type": "stream",
     "text": [
      "\n",
      "Prix prédits pour Volkswagen Tiguan (2009, 200000 km, 8 CV, Automatique, Diesel, Excellent):\n",
      "Régression Linéaire: 105589.72 MAD\n",
      "Lasso optimisé: 121270.81 MAD\n"
     ]
    }
   ],
   "source": [
    "# Prédiction du prix pour une nouvelle voiture: Volkswagen Tiguan, 2009, 200000 km, 8 CV, Automatique, Diesel, Excellent\n",
    "new_car = pd.DataFrame({\n",
    "    'marque': ['Volkswagen'],\n",
    "    'modele': ['Tiguan'],\n",
    "    'annee': [2009],\n",
    "    'kilometrage': [20000],\n",
    "    'puissance_fiscale': [8],\n",
    "    'boite': ['Automatique'],\n",
    "    'carburant': ['Diesel'],\n",
    "    'etat': ['Excellent'],\n",
    "    'premiere_main': ['Non'],\n",
    "    'nombre_portres': [5]  \n",
    "})\n",
    "\n",
    "# Appliquer la même ingénierie de caractéristiques\n",
    "new_car['marque'] = new_car['marque'].apply(lambda x: x if marque_counts.get(x, 0) >= 100 else 'Other')\n",
    "new_car['modele'] = new_car['modele'].apply(lambda x: x if modele_counts.get(x, 0) >= 100 else 'Other')\n",
    "new_car['kilometrage'] = np.log1p(new_car['kilometrage'])\n",
    "\n",
    "# Encodage one-hot des colonnes catégorielles\n",
    "categorical_cols = ['boite', 'carburant', 'marque', 'modele', 'premiere_main', 'etat']\n",
    "new_car_encoded = pd.get_dummies(new_car, columns=categorical_cols, drop_first=True)\n",
    "\n",
    "# Aligner les caractéristiques de la nouvelle voiture avec les données d'entraînement (ajouter les colonnes manquantes avec zéros)\n",
    "for col in X.columns:\n",
    "    if col not in new_car_encoded.columns:\n",
    "        new_car_encoded[col] = 0\n",
    "new_car_encoded = new_car_encoded[X.columns]\n",
    "\n",
    "# Mise à l'échelle des caractéristiques numériques\n",
    "numerical_cols = ['annee', 'kilometrage', 'nombre_portres', 'puissance_fiscale']\n",
    "new_car_encoded[numerical_cols] = scaler.transform(new_car_encoded[numerical_cols])\n",
    "\n",
    "# Faire des prédictions\n",
    "lr_pred = lr_model.predict(new_car_encoded)\n",
    "lasso_pred = lasso_model.predict(new_car_encoded)\n",
    "\n",
    "# Transformer les prédictions à l'échelle de prix originale\n",
    "print(\"\\nPrix prédits pour Volkswagen Tiguan (2009, 200000 km, 8 CV, Automatique, Diesel, Excellent):\")\n",
    "print(f\"Régression Linéaire: {np.expm1(lr_pred[0]):.2f} MAD\")\n",
    "print(f\"Lasso optimisé: {np.expm1(lasso_pred[0]):.2f} MAD\")"
   ]
  },
  {
   "cell_type": "markdown",
   "id": "c6266480",
   "metadata": {},
   "source": [
    "**Visualisation des prédictions**\n",
    "\n",
    "Créer un graphique pour comparer les valeurs prédites avec les valeurs réelles."
   ]
  },
  {
   "cell_type": "code",
   "execution_count": 151,
   "id": "907610b0",
   "metadata": {},
   "outputs": [
    {
     "data": {
      "image/png": "[encoded data removed]",
      "text/plain": [
       "<Figure size 1000x600 with 1 Axes>"
      ]
     },
     "metadata": {},
     "output_type": "display_data"
    }
   ],
   "source": [
    "# Prédiction vs Valeurs réelles LR\n",
    "plt.figure(figsize=(10, 6))\n",
    "plt.scatter(Y_test, test_data_prediction_lr, color='blue', label='Prédictions', alpha=0.6)\n",
    "plt.plot([min(Y_test), max(Y_test)], [min(Y_test), max(Y_test)], color='red', label='Ligne idéale', linestyle='--')\n",
    "plt.xlabel('Valeurs réelles')\n",
    "plt.ylabel('Prédictions')\n",
    "plt.title('Prédictions vs Valeurs réelles')\n",
    "plt.legend()\n",
    "plt.show()\n"
   ]
  },
  {
   "cell_type": "markdown",
   "id": "827414ba",
   "metadata": {},
   "source": [
    "**Sauvegarde du modèle de régression linéaire**\n",
    "\n",
    "Enregistrer le modèle de régression linéaire et ses composants pour une utilisation future."
   ]
  },
  {
   "cell_type": "code",
   "execution_count": 152,
   "id": "8f6b1a1c",
   "metadata": {},
   "outputs": [
    {
     "name": "stdout",
     "output_type": "stream",
     "text": [
      "Le scaler et le modèle de régression linéaire ont été sauvegardés sous forme de fichiers .pkl dans le dossier du projet.\n"
     ]
    }
   ],
   "source": [
    "# Utiliser le chemin relatif basé sur project_root\n",
    "import joblib\n",
    "\n",
    "pkl_dir = os.path.join(project_root, 'pkl-files')\n",
    "os.makedirs(pkl_dir, exist_ok=True)\n",
    "\n",
    "# Sauvegarder le scaler\n",
    "joblib.dump(scaler, os.path.join(pkl_dir, 'linear_regression_scaler.pkl'))\n",
    "\n",
    "# Sauvegarder le modèle\n",
    "joblib.dump(lr_model, os.path.join(pkl_dir, 'linear_regression_model.pkl'))\n",
    "\n",
    "# Sauvegarder les colonnes\n",
    "joblib.dump(X.columns, os.path.join(pkl_dir, 'linear_regression_columns.pkl'))\n",
    "\n",
    "print(\"Le scaler et le modèle de régression linéaire ont été sauvegardés sous forme de fichiers .pkl dans le dossier du projet.\")"
   ]
  },
  {
   "cell_type": "markdown",
   "id": "4ac5aaff",
   "metadata": {},
   "source": [
    "**Sauvegarde du modèle Lasso**\n",
    "\n",
    "Enregistrer le modèle Lasso et ses composants pour une utilisation future."
   ]
  },
  {
   "cell_type": "code",
   "execution_count": 153,
   "id": "5d9739a6",
   "metadata": {},
   "outputs": [
    {
     "name": "stdout",
     "output_type": "stream",
     "text": [
      "Le scaler et le modèle de Lasso ont été sauvegardés sous forme de fichiers .pkl.\n"
     ]
    }
   ],
   "source": [
    "import joblib\n",
    "\n",
    "# Utiliser le chemin relatif basé sur project_root\n",
    "pkl_dir = os.path.join(project_root, 'pkl-files')\n",
    "os.makedirs(pkl_dir, exist_ok=True)\n",
    "\n",
    "# Sauvegarder le scaler\n",
    "joblib.dump(scaler, os.path.join(pkl_dir, 'lasso_scaler.pkl'))\n",
    "\n",
    "# Sauvegarder le modèle\n",
    "joblib.dump(lasso_model, os.path.join(pkl_dir, 'lasso_model.pkl'))\n",
    "\n",
    "# Sauvegarder les colonnes\n",
    "joblib.dump(X.columns, os.path.join(pkl_dir, 'lasso_columns.pkl'))\n",
    "\n",
    "print(\"Le scaler et le modèle de Lasso ont été sauvegardés sous forme de fichiers .pkl.\")"
   ]
  },
  {
   "cell_type": "markdown",
   "id": "62815d41",
   "metadata": {},
   "source": [
    "**Travail Réalisé par EL ANNASI Nada et EL-GHEFYRY Salma**"
   ]
  }
 ],
 "metadata": {
  "kernelspec": {
   "display_name": "venv",
   "language": "python",
   "name": "python3"
  },
  "language_info": {
   "codemirror_mode": {
    "name": "ipython",
    "version": 3
   },
   "file_extension": ".py",
   "mimetype": "text/x-python",
   "name": "python",
   "nbconvert_exporter": "python",
   "pygments_lexer": "ipython3",
   "version": "3.11.9"
  }
 },
 "nbformat": 4,
 "nbformat_minor": 5
}
