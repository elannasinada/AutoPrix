{
  "cells": [
    {
      "cell_type": "markdown",
      "metadata": {
        "id": "sPFdVp0fZPN5"
      },
      "source": [
        "**Importer les bibliothèques nécessaires**"
      ]
    },
    {
      "cell_type": "code",
      "execution_count": 1,
      "metadata": {
        "id": "4lDYFMYHZUTF"
      },
      "outputs": [],
      "source": [
        "import pandas as pd\n",
        "import numpy as np\n",
        "\n",
        "from sklearn.model_selection import train_test_split\n",
        "from sklearn.metrics import mean_absolute_error, mean_squared_error, r2_score\n",
        "from sklearn.preprocessing import LabelEncoder\n",
        "\n",
        "import xgboost as xgb\n",
        "import matplotlib.pyplot as plt\n",
        "import seaborn as sns"
      ]
    },
    {
      "cell_type": "markdown",
      "metadata": {
        "id": "E_qttgG_ZV1v"
      },
      "source": [
        "***On lit le fichier CSV contenant les données nettoyées.***"
      ]
    },
    {
      "cell_type": "code",
      "execution_count": 4,
      "metadata": {
        "colab": {
          "base_uri": "https://localhost:8080/",
          "height": 206
        },
        "id": "sMpsaEN9cBgD",
        "outputId": "bdf6fb1d-ae3b-44a3-d405-dd60bc25d778"
      },
      "outputs": [
        {
          "data": {
            "text/html": [
              "<div>\n",
              "<style scoped>\n",
              "    .dataframe tbody tr th:only-of-type {\n",
              "        vertical-align: middle;\n",
              "    }\n",
              "\n",
              "    .dataframe tbody tr th {\n",
              "        vertical-align: top;\n",
              "    }\n",
              "\n",
              "    .dataframe thead th {\n",
              "        text-align: right;\n",
              "    }\n",
              "</style>\n",
              "<table border=\"1\" class=\"dataframe\">\n",
              "  <thead>\n",
              "    <tr style=\"text-align: right;\">\n",
              "      <th></th>\n",
              "      <th>annee</th>\n",
              "      <th>boite</th>\n",
              "      <th>carburant</th>\n",
              "      <th>kilometrage</th>\n",
              "      <th>marque</th>\n",
              "      <th>modele</th>\n",
              "      <th>nombre_portres</th>\n",
              "      <th>premiere_main</th>\n",
              "      <th>puissance_fiscale</th>\n",
              "      <th>etat</th>\n",
              "      <th>prix</th>\n",
              "    </tr>\n",
              "  </thead>\n",
              "  <tbody>\n",
              "    <tr>\n",
              "      <th>0</th>\n",
              "      <td>2023</td>\n",
              "      <td>Automatique</td>\n",
              "      <td>Essence</td>\n",
              "      <td>22499.5</td>\n",
              "      <td>Alfa Romeo</td>\n",
              "      <td>Tonale</td>\n",
              "      <td>5</td>\n",
              "      <td>Oui</td>\n",
              "      <td>8</td>\n",
              "      <td>Excellent</td>\n",
              "      <td>306000</td>\n",
              "    </tr>\n",
              "    <tr>\n",
              "      <th>1</th>\n",
              "      <td>2018</td>\n",
              "      <td>Manuelle</td>\n",
              "      <td>Diesel</td>\n",
              "      <td>104999.5</td>\n",
              "      <td>Dacia</td>\n",
              "      <td>Duster</td>\n",
              "      <td>5</td>\n",
              "      <td>Oui</td>\n",
              "      <td>6</td>\n",
              "      <td>Excellent</td>\n",
              "      <td>155000</td>\n",
              "    </tr>\n",
              "    <tr>\n",
              "      <th>2</th>\n",
              "      <td>2023</td>\n",
              "      <td>Automatique</td>\n",
              "      <td>Diesel</td>\n",
              "      <td>67499.5</td>\n",
              "      <td>Hyundai</td>\n",
              "      <td>Accent</td>\n",
              "      <td>5</td>\n",
              "      <td>Oui</td>\n",
              "      <td>6</td>\n",
              "      <td>Excellent</td>\n",
              "      <td>179000</td>\n",
              "    </tr>\n",
              "    <tr>\n",
              "      <th>3</th>\n",
              "      <td>2023</td>\n",
              "      <td>Automatique</td>\n",
              "      <td>Diesel</td>\n",
              "      <td>22499.5</td>\n",
              "      <td>Peugeot</td>\n",
              "      <td>5008</td>\n",
              "      <td>5</td>\n",
              "      <td>Oui</td>\n",
              "      <td>8</td>\n",
              "      <td>Excellent</td>\n",
              "      <td>349000</td>\n",
              "    </tr>\n",
              "    <tr>\n",
              "      <th>4</th>\n",
              "      <td>2021</td>\n",
              "      <td>Automatique</td>\n",
              "      <td>Diesel</td>\n",
              "      <td>77499.5</td>\n",
              "      <td>Kia</td>\n",
              "      <td>Sportage</td>\n",
              "      <td>5</td>\n",
              "      <td>Oui</td>\n",
              "      <td>12</td>\n",
              "      <td>Très bon</td>\n",
              "      <td>685000</td>\n",
              "    </tr>\n",
              "  </tbody>\n",
              "</table>\n",
              "</div>"
            ],
            "text/plain": [
              "   annee        boite carburant  kilometrage      marque    modele  \\\n",
              "0   2023  Automatique   Essence      22499.5  Alfa Romeo    Tonale   \n",
              "1   2018     Manuelle    Diesel     104999.5       Dacia    Duster   \n",
              "2   2023  Automatique    Diesel      67499.5     Hyundai    Accent   \n",
              "3   2023  Automatique    Diesel      22499.5     Peugeot      5008   \n",
              "4   2021  Automatique    Diesel      77499.5         Kia  Sportage   \n",
              "\n",
              "   nombre_portres premiere_main  puissance_fiscale       etat    prix  \n",
              "0               5           Oui                  8  Excellent  306000  \n",
              "1               5           Oui                  6  Excellent  155000  \n",
              "2               5           Oui                  6  Excellent  179000  \n",
              "3               5           Oui                  8  Excellent  349000  \n",
              "4               5           Oui                 12   Très bon  685000  "
            ]
          },
          "execution_count": 4,
          "metadata": {},
          "output_type": "execute_result"
        }
      ],
      "source": [
        "# Lecture du fichier nettoyé\n",
        "df = pd.read_csv(\"data/avito_cars_clean.csv\")\n",
        "\n",
        "# Vérification\n",
        "df.head()"
      ]
    },
    {
      "cell_type": "markdown",
      "metadata": {
        "id": "OTnweCwPcNUI"
      },
      "source": [
        "***Vérifier et nettoyer les données***"
      ]
    },
    {
      "cell_type": "code",
      "execution_count": 5,
      "metadata": {
        "colab": {
          "base_uri": "https://localhost:8080/"
        },
        "id": "ZsXUFMDIcPI3",
        "outputId": "a944f9cd-59c5-49a8-c789-26d699c5d8fa"
      },
      "outputs": [
        {
          "name": "stdout",
          "output_type": "stream",
          "text": [
            "<class 'pandas.core.frame.DataFrame'>\n",
            "RangeIndex: 68415 entries, 0 to 68414\n",
            "Data columns (total 11 columns):\n",
            " #   Column             Non-Null Count  Dtype  \n",
            "---  ------             --------------  -----  \n",
            " 0   annee              68415 non-null  int64  \n",
            " 1   boite              68415 non-null  object \n",
            " 2   carburant          68415 non-null  object \n",
            " 3   kilometrage        68415 non-null  float64\n",
            " 4   marque             68415 non-null  object \n",
            " 5   modele             68415 non-null  object \n",
            " 6   nombre_portres     68415 non-null  int64  \n",
            " 7   premiere_main      68415 non-null  object \n",
            " 8   puissance_fiscale  68415 non-null  int64  \n",
            " 9   etat               68415 non-null  object \n",
            " 10  prix               68415 non-null  int64  \n",
            "dtypes: float64(1), int64(4), object(6)\n",
            "memory usage: 5.7+ MB\n",
            "None\n",
            "annee                0\n",
            "boite                0\n",
            "carburant            0\n",
            "kilometrage          0\n",
            "marque               0\n",
            "modele               0\n",
            "nombre_portres       0\n",
            "premiere_main        0\n",
            "puissance_fiscale    0\n",
            "etat                 0\n",
            "prix                 0\n",
            "dtype: int64\n"
          ]
        }
      ],
      "source": [
        "print(df.info())\n",
        "print(df.isnull().sum())"
      ]
    },
    {
      "cell_type": "markdown",
      "metadata": {
        "id": "lWlqV0L4c6pq"
      },
      "source": [
        "**Cela signifie que les données sont bien structurées et prêtes pour l'analyse, et qu’il n’y a pas de données manquantes à traiter.**"
      ]
    },
    {
      "cell_type": "markdown",
      "metadata": {
        "id": "FC4BuGr3dKBn"
      },
      "source": [
        "**XGBoost ne gère pas les textes directement, donc on convertit les colonnes textuelles en chiffres.**"
      ]
    },
    {
      "cell_type": "code",
      "execution_count": 6,
      "metadata": {
        "id": "m5ufsCvJdNyP"
      },
      "outputs": [],
      "source": [
        "label_cols = ['boite', 'carburant', 'marque', 'modele', 'etat']\n",
        "label_encoders = {}\n",
        "\n",
        "for col in label_cols:\n",
        "    le = LabelEncoder()\n",
        "    df[col] = le.fit_transform(df[col])\n",
        "    label_encoders[col] = le\n"
      ]
    },
    {
      "cell_type": "markdown",
      "metadata": {
        "id": "8_Xg-qkbdUSd"
      },
      "source": [
        "**On définit les colonnes d’entrée et la colonne cible (le prix).**"
      ]
    },
    {
      "cell_type": "code",
      "execution_count": 7,
      "metadata": {
        "id": "tU3hHQyedY9F"
      },
      "outputs": [],
      "source": [
        "X = df.drop(columns=['prix'])\n",
        "y = df['prix']\n"
      ]
    },
    {
      "cell_type": "markdown",
      "metadata": {
        "id": "3GO_ndmPddy2"
      },
      "source": [
        "**On va entraîner le modèle sur 80% des données et tester sur 20%.**"
      ]
    },
    {
      "cell_type": "code",
      "execution_count": 8,
      "metadata": {
        "id": "9GK3Ly-kdfWx"
      },
      "outputs": [],
      "source": [
        "X_train, X_test, y_train, y_test = train_test_split(X, y, test_size=0.2, random_state=42)\n"
      ]
    },
    {
      "cell_type": "markdown",
      "metadata": {
        "id": "WpoyAHdPdnQa"
      },
      "source": [
        "**Utilise l'encodeur LabelEncoder de sklearn pour convertir les colonnes catégorielles en valeurs numériques.**"
      ]
    },
    {
      "cell_type": "code",
      "execution_count": 9,
      "metadata": {
        "colab": {
          "base_uri": "https://localhost:8080/",
          "height": 206
        },
        "id": "5oo_SvGfdorx",
        "outputId": "94340966-8e42-4fa7-fdb6-1caf1921de16"
      },
      "outputs": [
        {
          "data": {
            "text/html": [
              "<div>\n",
              "<style scoped>\n",
              "    .dataframe tbody tr th:only-of-type {\n",
              "        vertical-align: middle;\n",
              "    }\n",
              "\n",
              "    .dataframe tbody tr th {\n",
              "        vertical-align: top;\n",
              "    }\n",
              "\n",
              "    .dataframe thead th {\n",
              "        text-align: right;\n",
              "    }\n",
              "</style>\n",
              "<table border=\"1\" class=\"dataframe\">\n",
              "  <thead>\n",
              "    <tr style=\"text-align: right;\">\n",
              "      <th></th>\n",
              "      <th>annee</th>\n",
              "      <th>boite</th>\n",
              "      <th>carburant</th>\n",
              "      <th>kilometrage</th>\n",
              "      <th>marque</th>\n",
              "      <th>modele</th>\n",
              "      <th>nombre_portres</th>\n",
              "      <th>premiere_main</th>\n",
              "      <th>puissance_fiscale</th>\n",
              "      <th>etat</th>\n",
              "      <th>prix</th>\n",
              "    </tr>\n",
              "  </thead>\n",
              "  <tbody>\n",
              "    <tr>\n",
              "      <th>0</th>\n",
              "      <td>2023</td>\n",
              "      <td>0</td>\n",
              "      <td>2</td>\n",
              "      <td>22499.5</td>\n",
              "      <td>2</td>\n",
              "      <td>705</td>\n",
              "      <td>5</td>\n",
              "      <td>1</td>\n",
              "      <td>8</td>\n",
              "      <td>3</td>\n",
              "      <td>306000</td>\n",
              "    </tr>\n",
              "    <tr>\n",
              "      <th>1</th>\n",
              "      <td>2018</td>\n",
              "      <td>1</td>\n",
              "      <td>0</td>\n",
              "      <td>104999.5</td>\n",
              "      <td>18</td>\n",
              "      <td>292</td>\n",
              "      <td>5</td>\n",
              "      <td>1</td>\n",
              "      <td>6</td>\n",
              "      <td>3</td>\n",
              "      <td>155000</td>\n",
              "    </tr>\n",
              "    <tr>\n",
              "      <th>2</th>\n",
              "      <td>2023</td>\n",
              "      <td>0</td>\n",
              "      <td>0</td>\n",
              "      <td>67499.5</td>\n",
              "      <td>34</td>\n",
              "      <td>106</td>\n",
              "      <td>5</td>\n",
              "      <td>1</td>\n",
              "      <td>6</td>\n",
              "      <td>3</td>\n",
              "      <td>179000</td>\n",
              "    </tr>\n",
              "    <tr>\n",
              "      <th>3</th>\n",
              "      <td>2023</td>\n",
              "      <td>0</td>\n",
              "      <td>0</td>\n",
              "      <td>22499.5</td>\n",
              "      <td>56</td>\n",
              "      <td>72</td>\n",
              "      <td>5</td>\n",
              "      <td>1</td>\n",
              "      <td>8</td>\n",
              "      <td>3</td>\n",
              "      <td>349000</td>\n",
              "    </tr>\n",
              "    <tr>\n",
              "      <th>4</th>\n",
              "      <td>2021</td>\n",
              "      <td>0</td>\n",
              "      <td>0</td>\n",
              "      <td>77499.5</td>\n",
              "      <td>40</td>\n",
              "      <td>656</td>\n",
              "      <td>5</td>\n",
              "      <td>1</td>\n",
              "      <td>12</td>\n",
              "      <td>6</td>\n",
              "      <td>685000</td>\n",
              "    </tr>\n",
              "  </tbody>\n",
              "</table>\n",
              "</div>"
            ],
            "text/plain": [
              "   annee  boite  carburant  kilometrage  marque  modele  nombre_portres  \\\n",
              "0   2023      0          2      22499.5       2     705               5   \n",
              "1   2018      1          0     104999.5      18     292               5   \n",
              "2   2023      0          0      67499.5      34     106               5   \n",
              "3   2023      0          0      22499.5      56      72               5   \n",
              "4   2021      0          0      77499.5      40     656               5   \n",
              "\n",
              "   premiere_main  puissance_fiscale  etat    prix  \n",
              "0              1                  8     3  306000  \n",
              "1              1                  6     3  155000  \n",
              "2              1                  6     3  179000  \n",
              "3              1                  8     3  349000  \n",
              "4              1                 12     6  685000  "
            ]
          },
          "execution_count": 9,
          "metadata": {},
          "output_type": "execute_result"
        }
      ],
      "source": [
        "from sklearn.preprocessing import LabelEncoder\n",
        "\n",
        "# Créer un encodeur\n",
        "label_encoder = LabelEncoder()\n",
        "\n",
        "# Encoder les colonnes catégorielles\n",
        "categorical_columns = ['boite', 'carburant', 'marque', 'modele', 'premiere_main', 'etat']\n",
        "\n",
        "# Appliquer l'encodeur à chaque colonne catégorielle\n",
        "for col in categorical_columns:\n",
        "    df[col] = label_encoder.fit_transform(df[col])\n",
        "\n",
        "# Vérifier les premières lignes après l'encodage\n",
        "df.head()\n"
      ]
    },
    {
      "cell_type": "markdown",
      "metadata": {
        "id": "l9lA8DexeMDx"
      },
      "source": [
        "On selectionne les colonnes comme caractéristiques et la colonne prix comme la cible."
      ]
    },
    {
      "cell_type": "code",
      "execution_count": 10,
      "metadata": {
        "id": "vWXeKh7PeTRr"
      },
      "outputs": [],
      "source": [
        "# Définir les caractéristiques (X) et la cible (y)\n",
        "X = df.drop(columns=['prix'])  # Supprimer la colonne cible\n",
        "y = df['prix']  # La cible\n"
      ]
    },
    {
      "cell_type": "markdown",
      "metadata": {
        "id": "qhafIgpgeaYO"
      },
      "source": [
        "***On divise les données en ensembles d'entraînement et de test***"
      ]
    },
    {
      "cell_type": "code",
      "execution_count": 11,
      "metadata": {
        "id": "_s-w-MT4eePb"
      },
      "outputs": [],
      "source": [
        "from sklearn.model_selection import train_test_split\n",
        "\n",
        "# Diviser les données en train et test\n",
        "X_train, X_test, y_train, y_test = train_test_split(X, y, test_size=0.2, random_state=42)\n"
      ]
    },
    {
      "cell_type": "markdown",
      "metadata": {
        "id": "XWveEG54ehVJ"
      },
      "source": [
        "***Création et entrainement du chatbot***"
      ]
    },
    {
      "cell_type": "code",
      "execution_count": 12,
      "metadata": {
        "colab": {
          "base_uri": "https://localhost:8080/",
          "height": 253
        },
        "id": "lofwj9Rnemry",
        "outputId": "9f630954-a3bf-49fd-b7d4-a376dfc59ea8"
      },
      "outputs": [
        {
          "data": {
            "text/html": [
              "<style>#sk-container-id-1 {color: black;}#sk-container-id-1 pre{padding: 0;}#sk-container-id-1 div.sk-toggleable {background-color: white;}#sk-container-id-1 label.sk-toggleable__label {cursor: pointer;display: block;width: 100%;margin-bottom: 0;padding: 0.3em;box-sizing: border-box;text-align: center;}#sk-container-id-1 label.sk-toggleable__label-arrow:before {content: \"▸\";float: left;margin-right: 0.25em;color: #696969;}#sk-container-id-1 label.sk-toggleable__label-arrow:hover:before {color: black;}#sk-container-id-1 div.sk-estimator:hover label.sk-toggleable__label-arrow:before {color: black;}#sk-container-id-1 div.sk-toggleable__content {max-height: 0;max-width: 0;overflow: hidden;text-align: left;background-color: #f0f8ff;}#sk-container-id-1 div.sk-toggleable__content pre {margin: 0.2em;color: black;border-radius: 0.25em;background-color: #f0f8ff;}#sk-container-id-1 input.sk-toggleable__control:checked~div.sk-toggleable__content {max-height: 200px;max-width: 100%;overflow: auto;}#sk-container-id-1 input.sk-toggleable__control:checked~label.sk-toggleable__label-arrow:before {content: \"▾\";}#sk-container-id-1 div.sk-estimator input.sk-toggleable__control:checked~label.sk-toggleable__label {background-color: #d4ebff;}#sk-container-id-1 div.sk-label input.sk-toggleable__control:checked~label.sk-toggleable__label {background-color: #d4ebff;}#sk-container-id-1 input.sk-hidden--visually {border: 0;clip: rect(1px 1px 1px 1px);clip: rect(1px, 1px, 1px, 1px);height: 1px;margin: -1px;overflow: hidden;padding: 0;position: absolute;width: 1px;}#sk-container-id-1 div.sk-estimator {font-family: monospace;background-color: #f0f8ff;border: 1px dotted black;border-radius: 0.25em;box-sizing: border-box;margin-bottom: 0.5em;}#sk-container-id-1 div.sk-estimator:hover {background-color: #d4ebff;}#sk-container-id-1 div.sk-parallel-item::after {content: \"\";width: 100%;border-bottom: 1px solid gray;flex-grow: 1;}#sk-container-id-1 div.sk-label:hover label.sk-toggleable__label {background-color: #d4ebff;}#sk-container-id-1 div.sk-serial::before {content: \"\";position: absolute;border-left: 1px solid gray;box-sizing: border-box;top: 0;bottom: 0;left: 50%;z-index: 0;}#sk-container-id-1 div.sk-serial {display: flex;flex-direction: column;align-items: center;background-color: white;padding-right: 0.2em;padding-left: 0.2em;position: relative;}#sk-container-id-1 div.sk-item {position: relative;z-index: 1;}#sk-container-id-1 div.sk-parallel {display: flex;align-items: stretch;justify-content: center;background-color: white;position: relative;}#sk-container-id-1 div.sk-item::before, #sk-container-id-1 div.sk-parallel-item::before {content: \"\";position: absolute;border-left: 1px solid gray;box-sizing: border-box;top: 0;bottom: 0;left: 50%;z-index: -1;}#sk-container-id-1 div.sk-parallel-item {display: flex;flex-direction: column;z-index: 1;position: relative;background-color: white;}#sk-container-id-1 div.sk-parallel-item:first-child::after {align-self: flex-end;width: 50%;}#sk-container-id-1 div.sk-parallel-item:last-child::after {align-self: flex-start;width: 50%;}#sk-container-id-1 div.sk-parallel-item:only-child::after {width: 0;}#sk-container-id-1 div.sk-dashed-wrapped {border: 1px dashed gray;margin: 0 0.4em 0.5em 0.4em;box-sizing: border-box;padding-bottom: 0.4em;background-color: white;}#sk-container-id-1 div.sk-label label {font-family: monospace;font-weight: bold;display: inline-block;line-height: 1.2em;}#sk-container-id-1 div.sk-label-container {text-align: center;}#sk-container-id-1 div.sk-container {/* jupyter's `normalize.less` sets `[hidden] { display: none; }` but bootstrap.min.css set `[hidden] { display: none !important; }` so we also need the `!important` here to be able to override the default hidden behavior on the sphinx rendered scikit-learn.org. See: https://github.com/scikit-learn/scikit-learn/issues/21755 */display: inline-block !important;position: relative;}#sk-container-id-1 div.sk-text-repr-fallback {display: none;}</style><div id=\"sk-container-id-1\" class=\"sk-top-container\"><div class=\"sk-text-repr-fallback\"><pre>XGBRegressor(base_score=None, booster=None, callbacks=None,\n",
              "             colsample_bylevel=None, colsample_bynode=None,\n",
              "             colsample_bytree=None, device=None, early_stopping_rounds=None,\n",
              "             enable_categorical=False, eval_metric=None, feature_types=None,\n",
              "             feature_weights=None, gamma=None, grow_policy=None,\n",
              "             importance_type=None, interaction_constraints=None,\n",
              "             learning_rate=0.1, max_bin=None, max_cat_threshold=None,\n",
              "             max_cat_to_onehot=None, max_delta_step=None, max_depth=5,\n",
              "             max_leaves=None, min_child_weight=None, missing=nan,\n",
              "             monotone_constraints=None, multi_strategy=None, n_estimators=100,\n",
              "             n_jobs=None, num_parallel_tree=None, ...)</pre><b>In a Jupyter environment, please rerun this cell to show the HTML representation or trust the notebook. <br />On GitHub, the HTML representation is unable to render, please try loading this page with nbviewer.org.</b></div><div class=\"sk-container\" hidden><div class=\"sk-item\"><div class=\"sk-estimator sk-toggleable\"><input class=\"sk-toggleable__control sk-hidden--visually\" id=\"sk-estimator-id-1\" type=\"checkbox\" checked><label for=\"sk-estimator-id-1\" class=\"sk-toggleable__label sk-toggleable__label-arrow\">XGBRegressor</label><div class=\"sk-toggleable__content\"><pre>XGBRegressor(base_score=None, booster=None, callbacks=None,\n",
              "             colsample_bylevel=None, colsample_bynode=None,\n",
              "             colsample_bytree=None, device=None, early_stopping_rounds=None,\n",
              "             enable_categorical=False, eval_metric=None, feature_types=None,\n",
              "             feature_weights=None, gamma=None, grow_policy=None,\n",
              "             importance_type=None, interaction_constraints=None,\n",
              "             learning_rate=0.1, max_bin=None, max_cat_threshold=None,\n",
              "             max_cat_to_onehot=None, max_delta_step=None, max_depth=5,\n",
              "             max_leaves=None, min_child_weight=None, missing=nan,\n",
              "             monotone_constraints=None, multi_strategy=None, n_estimators=100,\n",
              "             n_jobs=None, num_parallel_tree=None, ...)</pre></div></div></div></div></div>"
            ],
            "text/plain": [
              "XGBRegressor(base_score=None, booster=None, callbacks=None,\n",
              "             colsample_bylevel=None, colsample_bynode=None,\n",
              "             colsample_bytree=None, device=None, early_stopping_rounds=None,\n",
              "             enable_categorical=False, eval_metric=None, feature_types=None,\n",
              "             feature_weights=None, gamma=None, grow_policy=None,\n",
              "             importance_type=None, interaction_constraints=None,\n",
              "             learning_rate=0.1, max_bin=None, max_cat_threshold=None,\n",
              "             max_cat_to_onehot=None, max_delta_step=None, max_depth=5,\n",
              "             max_leaves=None, min_child_weight=None, missing=nan,\n",
              "             monotone_constraints=None, multi_strategy=None, n_estimators=100,\n",
              "             n_jobs=None, num_parallel_tree=None, ...)"
            ]
          },
          "execution_count": 12,
          "metadata": {},
          "output_type": "execute_result"
        }
      ],
      "source": [
        "import xgboost as xgb\n",
        "\n",
        "# Créer le modèle XGBoost\n",
        "model = xgb.XGBRegressor(objective='reg:squarederror', n_estimators=100, learning_rate=0.1, max_depth=5)\n",
        "\n",
        "# Entraîner le modèle\n",
        "model.fit(X_train, y_train)\n"
      ]
    },
    {
      "cell_type": "markdown",
      "metadata": {
        "id": "wotbWCKdesoP"
      },
      "source": [
        "***On passe à l'etape des prédictions et d'évaluation des performances***"
      ]
    },
    {
      "cell_type": "code",
      "execution_count": 13,
      "metadata": {
        "colab": {
          "base_uri": "https://localhost:8080/"
        },
        "id": "kN7J2bIze0h_",
        "outputId": "b79290f2-00cb-452c-8e2c-398281a24392"
      },
      "outputs": [
        {
          "name": "stdout",
          "output_type": "stream",
          "text": [
            "Mean Absolute Error (MAE): 24859.77509857693\n",
            "Root Mean Squared Error (RMSE): 53365.31902268839\n",
            "R²: 0.7730891260508274\n"
          ]
        }
      ],
      "source": [
        "from sklearn.metrics import mean_absolute_error, mean_squared_error, r2_score\n",
        "import numpy as np\n",
        "\n",
        "# Prédictions\n",
        "y_pred = model.predict(X_test)\n",
        "\n",
        "# Calcul des métriques d'évaluation\n",
        "mae = mean_absolute_error(y_test, y_pred)\n",
        "rmse = np.sqrt(mean_squared_error(y_test, y_pred))  # Calcul de la racine carrée manuellement\n",
        "r2 = r2_score(y_test, y_pred)\n",
        "\n",
        "# Affichage des résultats\n",
        "print(f\"Mean Absolute Error (MAE): {mae}\")\n",
        "print(f\"Root Mean Squared Error (RMSE): {rmse}\")\n",
        "print(f\"R²: {r2}\")\n"
      ]
    }
  ],
  "metadata": {
    "colab": {
      "provenance": []
    },
    "kernelspec": {
      "display_name": "venv",
      "language": "python",
      "name": "python3"
    },
    "language_info": {
      "codemirror_mode": {
        "name": "ipython",
        "version": 3
      },
      "file_extension": ".py",
      "mimetype": "text/x-python",
      "name": "python",
      "nbconvert_exporter": "python",
      "pygments_lexer": "ipython3",
      "version": "3.11.9"
    }
  },
  "nbformat": 4,
  "nbformat_minor": 0
}
